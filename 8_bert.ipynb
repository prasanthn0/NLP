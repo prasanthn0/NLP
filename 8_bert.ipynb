{
 "cells": [
  {
   "cell_type": "code",
   "execution_count": 3,
   "metadata": {},
   "outputs": [
    {
     "name": "stdout",
     "output_type": "stream",
     "text": [
      "Collecting spacy-transformers\n",
      "  Obtaining dependency information for spacy-transformers from https://files.pythonhosted.org/packages/18/fa/3ec6da0467330fc1e6ad235115a34d03ec75288aa351be28afd886ef5634/spacy_transformers-1.3.5-cp311-cp311-win_amd64.whl.metadata\n",
      "  Using cached spacy_transformers-1.3.5-cp311-cp311-win_amd64.whl.metadata (7.2 kB)\n",
      "Requirement already satisfied: spacy<4.1.0,>=3.5.0 in c:\\users\\prasa\\onedrive - pangeatech\\desktop\\resume\\repositories\\nlp\\env\\lib\\site-packages (from spacy-transformers) (3.7.5)\n",
      "Collecting transformers<4.37.0,>=3.4.0 (from spacy-transformers)\n",
      "  Obtaining dependency information for transformers<4.37.0,>=3.4.0 from https://files.pythonhosted.org/packages/20/0a/739426a81f7635b422fbe6cb8d1d99d1235579a6ac8024c13d743efa6847/transformers-4.36.2-py3-none-any.whl.metadata\n",
      "  Using cached transformers-4.36.2-py3-none-any.whl.metadata (126 kB)\n",
      "Collecting torch>=1.8.0 (from spacy-transformers)\n",
      "  Obtaining dependency information for torch>=1.8.0 from https://files.pythonhosted.org/packages/18/cf/f69dff972a748e08e1bf602ef94ea5c6d4dd2f41cea22c8ad67a607d8b41/torch-2.4.0-cp311-cp311-win_amd64.whl.metadata\n",
      "  Using cached torch-2.4.0-cp311-cp311-win_amd64.whl.metadata (27 kB)\n",
      "Requirement already satisfied: srsly<3.0.0,>=2.4.0 in c:\\users\\prasa\\onedrive - pangeatech\\desktop\\resume\\repositories\\nlp\\env\\lib\\site-packages (from spacy-transformers) (2.4.8)\n",
      "Collecting spacy-alignments<1.0.0,>=0.7.2 (from spacy-transformers)\n",
      "  Obtaining dependency information for spacy-alignments<1.0.0,>=0.7.2 from https://files.pythonhosted.org/packages/b1/e4/8da85ebcd3d3871a98c5f2ff92a33815741fa35643d8d39cd324c7d20159/spacy_alignments-0.9.1-cp311-cp311-win_amd64.whl.metadata\n",
      "  Using cached spacy_alignments-0.9.1-cp311-cp311-win_amd64.whl.metadata (2.7 kB)\n",
      "Requirement already satisfied: numpy>=1.19.0 in c:\\users\\prasa\\onedrive - pangeatech\\desktop\\resume\\repositories\\nlp\\env\\lib\\site-packages (from spacy-transformers) (1.26.4)\n",
      "Requirement already satisfied: spacy-legacy<3.1.0,>=3.0.11 in c:\\users\\prasa\\onedrive - pangeatech\\desktop\\resume\\repositories\\nlp\\env\\lib\\site-packages (from spacy<4.1.0,>=3.5.0->spacy-transformers) (3.0.12)\n",
      "Requirement already satisfied: spacy-loggers<2.0.0,>=1.0.0 in c:\\users\\prasa\\onedrive - pangeatech\\desktop\\resume\\repositories\\nlp\\env\\lib\\site-packages (from spacy<4.1.0,>=3.5.0->spacy-transformers) (1.0.5)\n",
      "Requirement already satisfied: murmurhash<1.1.0,>=0.28.0 in c:\\users\\prasa\\onedrive - pangeatech\\desktop\\resume\\repositories\\nlp\\env\\lib\\site-packages (from spacy<4.1.0,>=3.5.0->spacy-transformers) (1.0.10)\n",
      "Requirement already satisfied: cymem<2.1.0,>=2.0.2 in c:\\users\\prasa\\onedrive - pangeatech\\desktop\\resume\\repositories\\nlp\\env\\lib\\site-packages (from spacy<4.1.0,>=3.5.0->spacy-transformers) (2.0.8)\n",
      "Requirement already satisfied: preshed<3.1.0,>=3.0.2 in c:\\users\\prasa\\onedrive - pangeatech\\desktop\\resume\\repositories\\nlp\\env\\lib\\site-packages (from spacy<4.1.0,>=3.5.0->spacy-transformers) (3.0.9)\n",
      "Requirement already satisfied: thinc<8.3.0,>=8.2.2 in c:\\users\\prasa\\onedrive - pangeatech\\desktop\\resume\\repositories\\nlp\\env\\lib\\site-packages (from spacy<4.1.0,>=3.5.0->spacy-transformers) (8.2.5)\n",
      "Requirement already satisfied: wasabi<1.2.0,>=0.9.1 in c:\\users\\prasa\\onedrive - pangeatech\\desktop\\resume\\repositories\\nlp\\env\\lib\\site-packages (from spacy<4.1.0,>=3.5.0->spacy-transformers) (1.1.3)\n",
      "Requirement already satisfied: catalogue<2.1.0,>=2.0.6 in c:\\users\\prasa\\onedrive - pangeatech\\desktop\\resume\\repositories\\nlp\\env\\lib\\site-packages (from spacy<4.1.0,>=3.5.0->spacy-transformers) (2.0.10)\n",
      "Requirement already satisfied: weasel<0.5.0,>=0.1.0 in c:\\users\\prasa\\onedrive - pangeatech\\desktop\\resume\\repositories\\nlp\\env\\lib\\site-packages (from spacy<4.1.0,>=3.5.0->spacy-transformers) (0.4.1)\n",
      "Requirement already satisfied: typer<1.0.0,>=0.3.0 in c:\\users\\prasa\\onedrive - pangeatech\\desktop\\resume\\repositories\\nlp\\env\\lib\\site-packages (from spacy<4.1.0,>=3.5.0->spacy-transformers) (0.12.4)\n",
      "Requirement already satisfied: tqdm<5.0.0,>=4.38.0 in c:\\users\\prasa\\onedrive - pangeatech\\desktop\\resume\\repositories\\nlp\\env\\lib\\site-packages (from spacy<4.1.0,>=3.5.0->spacy-transformers) (4.66.5)\n",
      "Requirement already satisfied: requests<3.0.0,>=2.13.0 in c:\\users\\prasa\\onedrive - pangeatech\\desktop\\resume\\repositories\\nlp\\env\\lib\\site-packages (from spacy<4.1.0,>=3.5.0->spacy-transformers) (2.32.3)\n",
      "Requirement already satisfied: pydantic!=1.8,!=1.8.1,<3.0.0,>=1.7.4 in c:\\users\\prasa\\onedrive - pangeatech\\desktop\\resume\\repositories\\nlp\\env\\lib\\site-packages (from spacy<4.1.0,>=3.5.0->spacy-transformers) (2.8.2)\n",
      "Requirement already satisfied: jinja2 in c:\\users\\prasa\\onedrive - pangeatech\\desktop\\resume\\repositories\\nlp\\env\\lib\\site-packages (from spacy<4.1.0,>=3.5.0->spacy-transformers) (3.1.4)\n",
      "Requirement already satisfied: setuptools in c:\\users\\prasa\\onedrive - pangeatech\\desktop\\resume\\repositories\\nlp\\env\\lib\\site-packages (from spacy<4.1.0,>=3.5.0->spacy-transformers) (65.5.0)\n",
      "Requirement already satisfied: packaging>=20.0 in c:\\users\\prasa\\onedrive - pangeatech\\desktop\\resume\\repositories\\nlp\\env\\lib\\site-packages (from spacy<4.1.0,>=3.5.0->spacy-transformers) (24.1)\n",
      "Requirement already satisfied: langcodes<4.0.0,>=3.2.0 in c:\\users\\prasa\\onedrive - pangeatech\\desktop\\resume\\repositories\\nlp\\env\\lib\\site-packages (from spacy<4.1.0,>=3.5.0->spacy-transformers) (3.4.0)\n",
      "Collecting filelock (from torch>=1.8.0->spacy-transformers)\n",
      "  Obtaining dependency information for filelock from https://files.pythonhosted.org/packages/ae/f0/48285f0262fe47103a4a45972ed2f9b93e4c80b8fd609fa98da78b2a5706/filelock-3.15.4-py3-none-any.whl.metadata\n",
      "  Using cached filelock-3.15.4-py3-none-any.whl.metadata (2.9 kB)\n",
      "Requirement already satisfied: typing-extensions>=4.8.0 in c:\\users\\prasa\\onedrive - pangeatech\\desktop\\resume\\repositories\\nlp\\env\\lib\\site-packages (from torch>=1.8.0->spacy-transformers) (4.12.2)\n",
      "Requirement already satisfied: sympy in c:\\users\\prasa\\onedrive - pangeatech\\desktop\\resume\\repositories\\nlp\\env\\lib\\site-packages (from torch>=1.8.0->spacy-transformers) (1.13.2)\n",
      "Collecting networkx (from torch>=1.8.0->spacy-transformers)\n",
      "  Obtaining dependency information for networkx from https://files.pythonhosted.org/packages/38/e9/5f72929373e1a0e8d142a130f3f97e6ff920070f87f91c4e13e40e0fba5a/networkx-3.3-py3-none-any.whl.metadata\n",
      "  Using cached networkx-3.3-py3-none-any.whl.metadata (5.1 kB)\n",
      "Collecting fsspec (from torch>=1.8.0->spacy-transformers)\n",
      "  Obtaining dependency information for fsspec from https://files.pythonhosted.org/packages/5e/44/73bea497ac69bafde2ee4269292fa3b41f1198f4bb7bbaaabde30ad29d4a/fsspec-2024.6.1-py3-none-any.whl.metadata\n",
      "  Using cached fsspec-2024.6.1-py3-none-any.whl.metadata (11 kB)\n",
      "Collecting huggingface-hub<1.0,>=0.19.3 (from transformers<4.37.0,>=3.4.0->spacy-transformers)\n",
      "  Obtaining dependency information for huggingface-hub<1.0,>=0.19.3 from https://files.pythonhosted.org/packages/0b/05/31b21998f68c31e7ffcc27ff08531fb9af5506d765ce8d661fb0036e6918/huggingface_hub-0.24.5-py3-none-any.whl.metadata\n",
      "  Using cached huggingface_hub-0.24.5-py3-none-any.whl.metadata (13 kB)\n",
      "Collecting pyyaml>=5.1 (from transformers<4.37.0,>=3.4.0->spacy-transformers)\n",
      "  Obtaining dependency information for pyyaml>=5.1 from https://files.pythonhosted.org/packages/ed/23/8da0bbe2ab9dcdd11f4f4557ccaf95c10b9811b13ecced089d43ce59c3c8/PyYAML-6.0.2-cp311-cp311-win_amd64.whl.metadata\n",
      "  Using cached PyYAML-6.0.2-cp311-cp311-win_amd64.whl.metadata (2.1 kB)\n",
      "Requirement already satisfied: regex!=2019.12.17 in c:\\users\\prasa\\onedrive - pangeatech\\desktop\\resume\\repositories\\nlp\\env\\lib\\site-packages (from transformers<4.37.0,>=3.4.0->spacy-transformers) (2024.7.24)\n",
      "Collecting tokenizers<0.19,>=0.14 (from transformers<4.37.0,>=3.4.0->spacy-transformers)\n",
      "  Obtaining dependency information for tokenizers<0.19,>=0.14 from https://files.pythonhosted.org/packages/c1/02/40725eebedea8175918bd59ab80b2174d6ef3b3ef9ac8ec996e84c38d3ca/tokenizers-0.15.2-cp311-none-win_amd64.whl.metadata\n",
      "  Using cached tokenizers-0.15.2-cp311-none-win_amd64.whl.metadata (6.8 kB)\n",
      "Collecting safetensors>=0.3.1 (from transformers<4.37.0,>=3.4.0->spacy-transformers)\n",
      "  Obtaining dependency information for safetensors>=0.3.1 from https://files.pythonhosted.org/packages/21/4f/5ee44681c7ea827f9d3c104ca429865b41c05a4163eff7f0599152c2e682/safetensors-0.4.4-cp311-none-win_amd64.whl.metadata\n",
      "  Using cached safetensors-0.4.4-cp311-none-win_amd64.whl.metadata (3.9 kB)\n",
      "Requirement already satisfied: language-data>=1.2 in c:\\users\\prasa\\onedrive - pangeatech\\desktop\\resume\\repositories\\nlp\\env\\lib\\site-packages (from langcodes<4.0.0,>=3.2.0->spacy<4.1.0,>=3.5.0->spacy-transformers) (1.2.0)\n",
      "Requirement already satisfied: annotated-types>=0.4.0 in c:\\users\\prasa\\onedrive - pangeatech\\desktop\\resume\\repositories\\nlp\\env\\lib\\site-packages (from pydantic!=1.8,!=1.8.1,<3.0.0,>=1.7.4->spacy<4.1.0,>=3.5.0->spacy-transformers) (0.7.0)\n",
      "Requirement already satisfied: pydantic-core==2.20.1 in c:\\users\\prasa\\onedrive - pangeatech\\desktop\\resume\\repositories\\nlp\\env\\lib\\site-packages (from pydantic!=1.8,!=1.8.1,<3.0.0,>=1.7.4->spacy<4.1.0,>=3.5.0->spacy-transformers) (2.20.1)\n",
      "Requirement already satisfied: charset-normalizer<4,>=2 in c:\\users\\prasa\\onedrive - pangeatech\\desktop\\resume\\repositories\\nlp\\env\\lib\\site-packages (from requests<3.0.0,>=2.13.0->spacy<4.1.0,>=3.5.0->spacy-transformers) (3.3.2)\n",
      "Requirement already satisfied: idna<4,>=2.5 in c:\\users\\prasa\\onedrive - pangeatech\\desktop\\resume\\repositories\\nlp\\env\\lib\\site-packages (from requests<3.0.0,>=2.13.0->spacy<4.1.0,>=3.5.0->spacy-transformers) (3.7)\n",
      "Requirement already satisfied: urllib3<3,>=1.21.1 in c:\\users\\prasa\\onedrive - pangeatech\\desktop\\resume\\repositories\\nlp\\env\\lib\\site-packages (from requests<3.0.0,>=2.13.0->spacy<4.1.0,>=3.5.0->spacy-transformers) (2.2.2)\n",
      "Requirement already satisfied: certifi>=2017.4.17 in c:\\users\\prasa\\onedrive - pangeatech\\desktop\\resume\\repositories\\nlp\\env\\lib\\site-packages (from requests<3.0.0,>=2.13.0->spacy<4.1.0,>=3.5.0->spacy-transformers) (2024.7.4)\n",
      "Requirement already satisfied: blis<0.8.0,>=0.7.8 in c:\\users\\prasa\\onedrive - pangeatech\\desktop\\resume\\repositories\\nlp\\env\\lib\\site-packages (from thinc<8.3.0,>=8.2.2->spacy<4.1.0,>=3.5.0->spacy-transformers) (0.7.11)\n",
      "Requirement already satisfied: confection<1.0.0,>=0.0.1 in c:\\users\\prasa\\onedrive - pangeatech\\desktop\\resume\\repositories\\nlp\\env\\lib\\site-packages (from thinc<8.3.0,>=8.2.2->spacy<4.1.0,>=3.5.0->spacy-transformers) (0.1.5)\n",
      "Requirement already satisfied: colorama in c:\\users\\prasa\\onedrive - pangeatech\\desktop\\resume\\repositories\\nlp\\env\\lib\\site-packages (from tqdm<5.0.0,>=4.38.0->spacy<4.1.0,>=3.5.0->spacy-transformers) (0.4.6)\n",
      "Requirement already satisfied: click>=8.0.0 in c:\\users\\prasa\\onedrive - pangeatech\\desktop\\resume\\repositories\\nlp\\env\\lib\\site-packages (from typer<1.0.0,>=0.3.0->spacy<4.1.0,>=3.5.0->spacy-transformers) (8.1.7)\n",
      "Requirement already satisfied: shellingham>=1.3.0 in c:\\users\\prasa\\onedrive - pangeatech\\desktop\\resume\\repositories\\nlp\\env\\lib\\site-packages (from typer<1.0.0,>=0.3.0->spacy<4.1.0,>=3.5.0->spacy-transformers) (1.5.4)\n",
      "Requirement already satisfied: rich>=10.11.0 in c:\\users\\prasa\\onedrive - pangeatech\\desktop\\resume\\repositories\\nlp\\env\\lib\\site-packages (from typer<1.0.0,>=0.3.0->spacy<4.1.0,>=3.5.0->spacy-transformers) (13.7.1)\n",
      "Requirement already satisfied: cloudpathlib<1.0.0,>=0.7.0 in c:\\users\\prasa\\onedrive - pangeatech\\desktop\\resume\\repositories\\nlp\\env\\lib\\site-packages (from weasel<0.5.0,>=0.1.0->spacy<4.1.0,>=3.5.0->spacy-transformers) (0.18.1)\n",
      "Requirement already satisfied: smart-open<8.0.0,>=5.2.1 in c:\\users\\prasa\\onedrive - pangeatech\\desktop\\resume\\repositories\\nlp\\env\\lib\\site-packages (from weasel<0.5.0,>=0.1.0->spacy<4.1.0,>=3.5.0->spacy-transformers) (7.0.4)\n",
      "Requirement already satisfied: MarkupSafe>=2.0 in c:\\users\\prasa\\onedrive - pangeatech\\desktop\\resume\\repositories\\nlp\\env\\lib\\site-packages (from jinja2->spacy<4.1.0,>=3.5.0->spacy-transformers) (2.1.5)\n",
      "Requirement already satisfied: mpmath<1.4,>=1.1.0 in c:\\users\\prasa\\onedrive - pangeatech\\desktop\\resume\\repositories\\nlp\\env\\lib\\site-packages (from sympy->torch>=1.8.0->spacy-transformers) (1.3.0)\n",
      "Requirement already satisfied: marisa-trie>=0.7.7 in c:\\users\\prasa\\onedrive - pangeatech\\desktop\\resume\\repositories\\nlp\\env\\lib\\site-packages (from language-data>=1.2->langcodes<4.0.0,>=3.2.0->spacy<4.1.0,>=3.5.0->spacy-transformers) (1.2.0)\n",
      "Requirement already satisfied: markdown-it-py>=2.2.0 in c:\\users\\prasa\\onedrive - pangeatech\\desktop\\resume\\repositories\\nlp\\env\\lib\\site-packages (from rich>=10.11.0->typer<1.0.0,>=0.3.0->spacy<4.1.0,>=3.5.0->spacy-transformers) (3.0.0)\n",
      "Requirement already satisfied: pygments<3.0.0,>=2.13.0 in c:\\users\\prasa\\onedrive - pangeatech\\desktop\\resume\\repositories\\nlp\\env\\lib\\site-packages (from rich>=10.11.0->typer<1.0.0,>=0.3.0->spacy<4.1.0,>=3.5.0->spacy-transformers) (2.18.0)\n",
      "Requirement already satisfied: wrapt in c:\\users\\prasa\\onedrive - pangeatech\\desktop\\resume\\repositories\\nlp\\env\\lib\\site-packages (from smart-open<8.0.0,>=5.2.1->weasel<0.5.0,>=0.1.0->spacy<4.1.0,>=3.5.0->spacy-transformers) (1.16.0)\n",
      "Requirement already satisfied: mdurl~=0.1 in c:\\users\\prasa\\onedrive - pangeatech\\desktop\\resume\\repositories\\nlp\\env\\lib\\site-packages (from markdown-it-py>=2.2.0->rich>=10.11.0->typer<1.0.0,>=0.3.0->spacy<4.1.0,>=3.5.0->spacy-transformers) (0.1.2)\n",
      "Using cached spacy_transformers-1.3.5-cp311-cp311-win_amd64.whl (343 kB)\n",
      "Using cached spacy_alignments-0.9.1-cp311-cp311-win_amd64.whl (187 kB)\n",
      "Using cached torch-2.4.0-cp311-cp311-win_amd64.whl (197.9 MB)\n",
      "Using cached transformers-4.36.2-py3-none-any.whl (8.2 MB)\n",
      "Using cached huggingface_hub-0.24.5-py3-none-any.whl (417 kB)\n",
      "Using cached fsspec-2024.6.1-py3-none-any.whl (177 kB)\n",
      "Using cached PyYAML-6.0.2-cp311-cp311-win_amd64.whl (161 kB)\n",
      "Using cached safetensors-0.4.4-cp311-none-win_amd64.whl (285 kB)\n",
      "Using cached tokenizers-0.15.2-cp311-none-win_amd64.whl (2.2 MB)\n",
      "Using cached filelock-3.15.4-py3-none-any.whl (16 kB)\n",
      "Using cached networkx-3.3-py3-none-any.whl (1.7 MB)\n",
      "Installing collected packages: spacy-alignments, safetensors, pyyaml, networkx, fsspec, filelock, torch, huggingface-hub, tokenizers, transformers, spacy-transformers\n"
     ]
    },
    {
     "name": "stderr",
     "output_type": "stream",
     "text": [
      "ERROR: Could not install packages due to an OSError: [WinError 32] The process cannot access the file because it is being used by another process: 'C:\\\\Users\\\\prasa\\\\OneDrive - PangeaTech\\\\Desktop\\\\Resume\\\\repositories\\\\NLP\\\\env\\\\Lib\\\\site-packages\\\\networkx\\\\algorithms\\\\flow\\\\shortestaugmentingpath.py'\n",
      "Check the permissions.\n",
      "\n",
      "\n",
      "[notice] A new release of pip is available: 23.2.1 -> 24.2\n",
      "[notice] To update, run: python3.exe -m pip install --upgrade pip\n"
     ]
    }
   ],
   "source": [
    "!pip install spacy-transformers"
   ]
  },
  {
   "cell_type": "code",
   "execution_count": 8,
   "metadata": {},
   "outputs": [
    {
     "name": "stderr",
     "output_type": "stream",
     "text": [
      "Traceback (most recent call last):\n",
      "  File \"<frozen runpy>\", line 189, in _run_module_as_main\n",
      "  File \"<frozen runpy>\", line 148, in _get_module_details\n",
      "  File \"<frozen runpy>\", line 112, in _get_module_details\n",
      "  File \"c:\\Users\\prasa\\OneDrive - PangeaTech\\Desktop\\Resume\\repositories\\NLP\\env\\Lib\\site-packages\\spacy\\__init__.py\", line 6, in <module>\n",
      "    from .errors import setup_default_warnings\n",
      "  File \"c:\\Users\\prasa\\OneDrive - PangeaTech\\Desktop\\Resume\\repositories\\NLP\\env\\Lib\\site-packages\\spacy\\errors.py\", line 3, in <module>\n",
      "    from .compat import Literal\n",
      "  File \"c:\\Users\\prasa\\OneDrive - PangeaTech\\Desktop\\Resume\\repositories\\NLP\\env\\Lib\\site-packages\\spacy\\compat.py\", line 4, in <module>\n",
      "    from thinc.util import copy_array\n",
      "  File \"c:\\Users\\prasa\\OneDrive - PangeaTech\\Desktop\\Resume\\repositories\\NLP\\env\\Lib\\site-packages\\thinc\\__init__.py\", line 5, in <module>\n",
      "    from .config import registry\n",
      "  File \"c:\\Users\\prasa\\OneDrive - PangeaTech\\Desktop\\Resume\\repositories\\NLP\\env\\Lib\\site-packages\\thinc\\config.py\", line 5, in <module>\n",
      "    from .types import Decorator\n",
      "  File \"c:\\Users\\prasa\\OneDrive - PangeaTech\\Desktop\\Resume\\repositories\\NLP\\env\\Lib\\site-packages\\thinc\\types.py\", line 25, in <module>\n",
      "    from .compat import cupy, has_cupy\n",
      "  File \"c:\\Users\\prasa\\OneDrive - PangeaTech\\Desktop\\Resume\\repositories\\NLP\\env\\Lib\\site-packages\\thinc\\compat.py\", line 35, in <module>\n",
      "    import torch\n",
      "  File \"c:\\Users\\prasa\\OneDrive - PangeaTech\\Desktop\\Resume\\repositories\\NLP\\env\\Lib\\site-packages\\torch\\__init__.py\", line 148, in <module>\n",
      "    raise err\n",
      "OSError: [WinError 126] The specified module could not be found. Error loading \"c:\\Users\\prasa\\OneDrive - PangeaTech\\Desktop\\Resume\\repositories\\NLP\\env\\Lib\\site-packages\\torch\\lib\\fbgemm.dll\" or one of its dependencies.\n"
     ]
    }
   ],
   "source": [
    "!python -m spacy download en_core_web_trf"
   ]
  },
  {
   "cell_type": "code",
   "execution_count": null,
   "metadata": {},
   "outputs": [],
   "source": []
  }
 ],
 "metadata": {
  "kernelspec": {
   "display_name": "env",
   "language": "python",
   "name": "python3"
  },
  "language_info": {
   "codemirror_mode": {
    "name": "ipython",
    "version": 3
   },
   "file_extension": ".py",
   "mimetype": "text/x-python",
   "name": "python",
   "nbconvert_exporter": "python",
   "pygments_lexer": "ipython3",
   "version": "3.11.6"
  }
 },
 "nbformat": 4,
 "nbformat_minor": 2
}
